{
 "cells": [
  {
   "cell_type": "code",
   "execution_count": 12,
   "id": "0d16144b",
   "metadata": {},
   "outputs": [],
   "source": [
    "from tensorflow.keras.layers import Input, Lambda, Dense, Flatten,Conv2D\n",
    "from tensorflow.keras.models import Model\n",
    "from tensorflow.keras.applications.vgg19 import VGG19\n",
    "from tensorflow.keras.applications.resnet50 import preprocess_input\n",
    "from tensorflow.keras.preprocessing import image\n",
    "from tensorflow.keras.preprocessing.image import ImageDataGenerator,load_img\n",
    "from tensorflow.keras.models import Sequential\n",
    "import numpy as np\n",
    "from glob import glob\n",
    "import matplotlib.pyplot as plt"
   ]
  },
  {
   "cell_type": "code",
   "execution_count": 13,
   "id": "e349462c",
   "metadata": {},
   "outputs": [],
   "source": [
    "IMAGE_SIZE = [224, 224]"
   ]
  },
  {
   "cell_type": "code",
   "execution_count": 14,
   "id": "a54d9e12",
   "metadata": {},
   "outputs": [],
   "source": [
    "mobilnet = VGG19(input_shape=IMAGE_SIZE + [3], weights='imagenet', include_top=False)"
   ]
  },
  {
   "cell_type": "code",
   "execution_count": 15,
   "id": "373960d2",
   "metadata": {},
   "outputs": [],
   "source": [
    "for layer in mobilnet.layers:\n",
    "    layer.trainable = False"
   ]
  },
  {
   "cell_type": "code",
   "execution_count": 16,
   "id": "a13fe528",
   "metadata": {},
   "outputs": [],
   "source": [
    "folders = glob('Dataset/Train/*')"
   ]
  },
  {
   "cell_type": "code",
   "execution_count": 17,
   "id": "3b9acc02",
   "metadata": {},
   "outputs": [],
   "source": [
    "x = Flatten()(mobilnet.output)"
   ]
  },
  {
   "cell_type": "code",
   "execution_count": 18,
   "id": "224bd12e",
   "metadata": {},
   "outputs": [],
   "source": [
    "# prediction = Dense(len(folders), activation='softmax')(x)\n",
    "\n",
    "# # create a model object\n",
    "# model = Model(inputs=mobilnet.input, outputs=prediction)"
   ]
  },
  {
   "cell_type": "code",
   "execution_count": 19,
   "id": "864d00db",
   "metadata": {},
   "outputs": [],
   "source": [
    "# model.summary()"
   ]
  },
  {
   "cell_type": "code",
   "execution_count": 20,
   "id": "2475ba99",
   "metadata": {},
   "outputs": [],
   "source": [
    "from tensorflow.keras.layers import MaxPooling2D"
   ]
  },
  {
   "cell_type": "code",
   "execution_count": 21,
   "id": "c1af2339",
   "metadata": {},
   "outputs": [
    {
     "name": "stdout",
     "output_type": "stream",
     "text": [
      "Model: \"sequential_2\"\n",
      "_________________________________________________________________\n",
      " Layer (type)                Output Shape              Param #   \n",
      "=================================================================\n",
      " conv2d_6 (Conv2D)           (None, 224, 224, 16)      208       \n",
      "                                                                 \n",
      " max_pooling2d_6 (MaxPooling  (None, 112, 112, 16)     0         \n",
      " 2D)                                                             \n",
      "                                                                 \n",
      " conv2d_7 (Conv2D)           (None, 112, 112, 32)      2080      \n",
      "                                                                 \n",
      " max_pooling2d_7 (MaxPooling  (None, 56, 56, 32)       0         \n",
      " 2D)                                                             \n",
      "                                                                 \n",
      " conv2d_8 (Conv2D)           (None, 56, 56, 64)        8256      \n",
      "                                                                 \n",
      " max_pooling2d_8 (MaxPooling  (None, 28, 28, 64)       0         \n",
      " 2D)                                                             \n",
      "                                                                 \n",
      " flatten_4 (Flatten)         (None, 50176)             0         \n",
      "                                                                 \n",
      " dense_5 (Dense)             (None, 500)               25088500  \n",
      "                                                                 \n",
      " dense_6 (Dense)             (None, 2)                 1002      \n",
      "                                                                 \n",
      "=================================================================\n",
      "Total params: 25,100,046\n",
      "Trainable params: 25,100,046\n",
      "Non-trainable params: 0\n",
      "_________________________________________________________________\n"
     ]
    }
   ],
   "source": [
    "model=Sequential()\n",
    "model.add(Conv2D(filters=16,kernel_size=2,padding=\"same\",activation=\"relu\",input_shape=(224,224,3)))\n",
    "model.add(MaxPooling2D(pool_size=2))\n",
    "model.add(Conv2D(filters=32,kernel_size=2,padding=\"same\",activation =\"relu\"))\n",
    "model.add(MaxPooling2D(pool_size=2))\n",
    "model.add(Conv2D(filters=64,kernel_size=2,padding=\"same\",activation=\"relu\"))\n",
    "model.add(MaxPooling2D(pool_size=2))\n",
    "model.add(Flatten())\n",
    "model.add(Dense(500,activation=\"relu\"))\n",
    "model.add(Dense(2,activation=\"softmax\"))\n",
    "model.summary()"
   ]
  },
  {
   "cell_type": "code",
   "execution_count": 22,
   "id": "8012924a",
   "metadata": {},
   "outputs": [],
   "source": [
    "model.compile(\n",
    "  loss='categorical_crossentropy',\n",
    "  optimizer='adam',\n",
    "  metrics=['accuracy']\n",
    ")"
   ]
  },
  {
   "cell_type": "code",
   "execution_count": 23,
   "id": "6efe5038",
   "metadata": {},
   "outputs": [],
   "source": [
    "from tensorflow.keras.preprocessing.image import ImageDataGenerator\n",
    "\n",
    "train_datagen = ImageDataGenerator(rescale = 1./255,\n",
    "                                   shear_range = 0.2,\n",
    "                                   zoom_range = 0.2,\n",
    "                                   horizontal_flip = True)\n",
    "\n",
    "test_datagen = ImageDataGenerator(rescale = 1./255)"
   ]
  },
  {
   "cell_type": "code",
   "execution_count": 24,
   "id": "0c97ed0e",
   "metadata": {},
   "outputs": [
    {
     "name": "stdout",
     "output_type": "stream",
     "text": [
      "Found 416 images belonging to 2 classes.\n"
     ]
    }
   ],
   "source": [
    "training_set = train_datagen.flow_from_directory('Dataset/Train',\n",
    "                                                 target_size = (224, 224),\n",
    "                                                 batch_size = 32,\n",
    "                                                 class_mode = 'categorical')"
   ]
  },
  {
   "cell_type": "code",
   "execution_count": 25,
   "id": "d4aa7f58",
   "metadata": {},
   "outputs": [
    {
     "name": "stdout",
     "output_type": "stream",
     "text": [
      "Found 134 images belonging to 2 classes.\n"
     ]
    }
   ],
   "source": [
    "test_set = test_datagen.flow_from_directory('Dataset/Test',\n",
    "                                            target_size = (224, 224),\n",
    "                                            batch_size = 32,\n",
    "                                            class_mode = 'categorical')"
   ]
  },
  {
   "cell_type": "code",
   "execution_count": 26,
   "id": "b6f6d54e",
   "metadata": {},
   "outputs": [
    {
     "name": "stderr",
     "output_type": "stream",
     "text": [
      "C:\\Users\\Admin\\AppData\\Local\\Temp/ipykernel_14320/4102162479.py:3: UserWarning: `Model.fit_generator` is deprecated and will be removed in a future version. Please use `Model.fit`, which supports generators.\n",
      "  r = model.fit_generator(\n"
     ]
    },
    {
     "name": "stdout",
     "output_type": "stream",
     "text": [
      "Epoch 1/50\n",
      "13/13 [==============================] - 9s 677ms/step - loss: 1.2642 - accuracy: 0.5745 - val_loss: 0.7602 - val_accuracy: 0.6791\n",
      "Epoch 2/50\n",
      "13/13 [==============================] - 7s 523ms/step - loss: 0.6260 - accuracy: 0.6683 - val_loss: 0.7429 - val_accuracy: 0.4925\n",
      "Epoch 3/50\n",
      "13/13 [==============================] - 7s 535ms/step - loss: 0.5137 - accuracy: 0.7356 - val_loss: 0.9790 - val_accuracy: 0.2985\n",
      "Epoch 4/50\n",
      "13/13 [==============================] - 7s 538ms/step - loss: 0.4937 - accuracy: 0.7476 - val_loss: 0.8556 - val_accuracy: 0.3582\n",
      "Epoch 5/50\n",
      "13/13 [==============================] - 7s 537ms/step - loss: 0.4285 - accuracy: 0.8077 - val_loss: 0.9498 - val_accuracy: 0.3657\n",
      "Epoch 6/50\n",
      "13/13 [==============================] - 7s 538ms/step - loss: 0.3977 - accuracy: 0.8221 - val_loss: 0.8095 - val_accuracy: 0.4627\n",
      "Epoch 7/50\n",
      "13/13 [==============================] - 7s 542ms/step - loss: 0.3409 - accuracy: 0.8510 - val_loss: 0.7339 - val_accuracy: 0.5522\n",
      "Epoch 8/50\n",
      "13/13 [==============================] - 7s 543ms/step - loss: 0.3520 - accuracy: 0.8365 - val_loss: 0.5798 - val_accuracy: 0.6716\n",
      "Epoch 9/50\n",
      "13/13 [==============================] - 7s 542ms/step - loss: 0.3435 - accuracy: 0.8678 - val_loss: 0.6680 - val_accuracy: 0.5746\n",
      "Epoch 10/50\n",
      "13/13 [==============================] - 7s 541ms/step - loss: 0.2645 - accuracy: 0.8966 - val_loss: 0.5446 - val_accuracy: 0.7090\n",
      "Epoch 11/50\n",
      "13/13 [==============================] - 7s 557ms/step - loss: 0.2262 - accuracy: 0.9207 - val_loss: 0.6124 - val_accuracy: 0.7090\n",
      "Epoch 12/50\n",
      "13/13 [==============================] - 7s 542ms/step - loss: 0.2111 - accuracy: 0.9303 - val_loss: 0.3633 - val_accuracy: 0.8582\n",
      "Epoch 13/50\n",
      "13/13 [==============================] - 7s 551ms/step - loss: 0.1747 - accuracy: 0.9471 - val_loss: 0.6011 - val_accuracy: 0.7463\n",
      "Epoch 14/50\n",
      "13/13 [==============================] - 7s 548ms/step - loss: 0.1460 - accuracy: 0.9471 - val_loss: 0.3150 - val_accuracy: 0.8881\n",
      "Epoch 15/50\n",
      "13/13 [==============================] - 7s 552ms/step - loss: 0.1165 - accuracy: 0.9567 - val_loss: 0.4258 - val_accuracy: 0.8284\n",
      "Epoch 16/50\n",
      "13/13 [==============================] - 8s 575ms/step - loss: 0.1294 - accuracy: 0.9543 - val_loss: 0.3834 - val_accuracy: 0.8284\n",
      "Epoch 17/50\n",
      "13/13 [==============================] - 8s 576ms/step - loss: 0.1107 - accuracy: 0.9784 - val_loss: 0.5516 - val_accuracy: 0.7985\n",
      "Epoch 18/50\n",
      "13/13 [==============================] - 7s 556ms/step - loss: 0.0959 - accuracy: 0.9760 - val_loss: 0.3052 - val_accuracy: 0.8806\n",
      "Epoch 19/50\n",
      "13/13 [==============================] - 7s 558ms/step - loss: 0.1206 - accuracy: 0.9639 - val_loss: 0.3052 - val_accuracy: 0.8731\n",
      "Epoch 20/50\n",
      "13/13 [==============================] - 7s 547ms/step - loss: 0.0966 - accuracy: 0.9736 - val_loss: 0.3355 - val_accuracy: 0.8731\n",
      "Epoch 21/50\n",
      "13/13 [==============================] - 7s 548ms/step - loss: 0.0970 - accuracy: 0.9688 - val_loss: 0.3139 - val_accuracy: 0.9030\n",
      "Epoch 22/50\n",
      "13/13 [==============================] - 7s 552ms/step - loss: 0.0968 - accuracy: 0.9808 - val_loss: 0.6281 - val_accuracy: 0.8209\n",
      "Epoch 23/50\n",
      "13/13 [==============================] - 7s 558ms/step - loss: 0.1008 - accuracy: 0.9712 - val_loss: 0.3965 - val_accuracy: 0.8657\n",
      "Epoch 24/50\n",
      "13/13 [==============================] - 7s 546ms/step - loss: 0.0778 - accuracy: 0.9880 - val_loss: 0.3547 - val_accuracy: 0.8806\n",
      "Epoch 25/50\n",
      "13/13 [==============================] - 7s 564ms/step - loss: 0.0650 - accuracy: 0.9784 - val_loss: 0.2180 - val_accuracy: 0.9030\n",
      "Epoch 26/50\n",
      "13/13 [==============================] - 7s 562ms/step - loss: 0.1229 - accuracy: 0.9663 - val_loss: 0.1392 - val_accuracy: 0.9552\n",
      "Epoch 27/50\n",
      "13/13 [==============================] - 7s 550ms/step - loss: 0.0831 - accuracy: 0.9856 - val_loss: 0.2425 - val_accuracy: 0.8881\n",
      "Epoch 28/50\n",
      "13/13 [==============================] - 7s 552ms/step - loss: 0.0538 - accuracy: 0.9808 - val_loss: 0.3783 - val_accuracy: 0.8806\n",
      "Epoch 29/50\n",
      "13/13 [==============================] - 7s 563ms/step - loss: 0.0585 - accuracy: 0.9784 - val_loss: 0.4020 - val_accuracy: 0.8582\n",
      "Epoch 30/50\n",
      "13/13 [==============================] - 7s 561ms/step - loss: 0.0752 - accuracy: 0.9760 - val_loss: 0.3674 - val_accuracy: 0.8657\n",
      "Epoch 31/50\n",
      "13/13 [==============================] - 7s 551ms/step - loss: 0.0483 - accuracy: 0.9880 - val_loss: 0.1917 - val_accuracy: 0.9552\n",
      "Epoch 32/50\n",
      "13/13 [==============================] - 7s 568ms/step - loss: 0.1078 - accuracy: 0.9712 - val_loss: 0.2845 - val_accuracy: 0.8731\n",
      "Epoch 33/50\n",
      "13/13 [==============================] - 7s 555ms/step - loss: 0.1141 - accuracy: 0.9639 - val_loss: 0.3571 - val_accuracy: 0.8731\n",
      "Epoch 34/50\n",
      "13/13 [==============================] - 7s 561ms/step - loss: 0.0630 - accuracy: 0.9856 - val_loss: 0.2657 - val_accuracy: 0.9328\n",
      "Epoch 35/50\n",
      "13/13 [==============================] - 7s 561ms/step - loss: 0.0407 - accuracy: 0.9880 - val_loss: 0.6381 - val_accuracy: 0.8582\n",
      "Epoch 36/50\n",
      "13/13 [==============================] - 7s 556ms/step - loss: 0.0538 - accuracy: 0.9808 - val_loss: 0.3651 - val_accuracy: 0.8881\n",
      "Epoch 37/50\n",
      "13/13 [==============================] - 7s 565ms/step - loss: 0.0337 - accuracy: 0.9928 - val_loss: 0.2340 - val_accuracy: 0.9552\n",
      "Epoch 38/50\n",
      "13/13 [==============================] - 7s 554ms/step - loss: 0.0559 - accuracy: 0.9856 - val_loss: 0.3547 - val_accuracy: 0.8806\n",
      "Epoch 39/50\n",
      "13/13 [==============================] - 8s 594ms/step - loss: 0.0504 - accuracy: 0.9856 - val_loss: 0.2368 - val_accuracy: 0.9179\n",
      "Epoch 40/50\n",
      "13/13 [==============================] - 8s 578ms/step - loss: 0.0376 - accuracy: 0.9904 - val_loss: 0.1950 - val_accuracy: 0.9254\n",
      "Epoch 41/50\n",
      "13/13 [==============================] - 7s 554ms/step - loss: 0.0355 - accuracy: 0.9928 - val_loss: 0.4487 - val_accuracy: 0.8731\n",
      "Epoch 42/50\n",
      "13/13 [==============================] - 7s 554ms/step - loss: 0.0585 - accuracy: 0.9808 - val_loss: 0.2016 - val_accuracy: 0.9104\n",
      "Epoch 43/50\n",
      "13/13 [==============================] - 7s 558ms/step - loss: 0.0262 - accuracy: 0.9952 - val_loss: 0.2076 - val_accuracy: 0.9403\n",
      "Epoch 44/50\n",
      "13/13 [==============================] - 8s 593ms/step - loss: 0.0490 - accuracy: 0.9904 - val_loss: 0.6852 - val_accuracy: 0.8582\n",
      "Epoch 45/50\n",
      "13/13 [==============================] - 7s 559ms/step - loss: 0.0704 - accuracy: 0.9808 - val_loss: 0.2424 - val_accuracy: 0.8955\n",
      "Epoch 46/50\n",
      "13/13 [==============================] - 7s 560ms/step - loss: 0.0276 - accuracy: 0.9952 - val_loss: 0.2643 - val_accuracy: 0.9328\n",
      "Epoch 47/50\n",
      "13/13 [==============================] - 7s 558ms/step - loss: 0.0228 - accuracy: 0.9976 - val_loss: 0.4226 - val_accuracy: 0.8881\n",
      "Epoch 48/50\n",
      "13/13 [==============================] - 7s 562ms/step - loss: 0.0361 - accuracy: 0.9880 - val_loss: 0.4651 - val_accuracy: 0.8806\n",
      "Epoch 49/50\n",
      "13/13 [==============================] - 8s 580ms/step - loss: 0.0479 - accuracy: 0.9856 - val_loss: 0.2776 - val_accuracy: 0.8955\n",
      "Epoch 50/50\n",
      "13/13 [==============================] - 7s 565ms/step - loss: 0.0225 - accuracy: 0.9952 - val_loss: 0.2321 - val_accuracy: 0.9478\n"
     ]
    }
   ],
   "source": [
    "# fit the model\n",
    "# Run the cell. It will take some time to execute\n",
    "r = model.fit_generator(\n",
    "  training_set,\n",
    "  validation_data=test_set,\n",
    "  epochs=50,\n",
    "  steps_per_epoch=len(training_set),\n",
    "  validation_steps=len(test_set)\n",
    ")"
   ]
  },
  {
   "cell_type": "code",
   "execution_count": 27,
   "id": "4b9eb3a2",
   "metadata": {},
   "outputs": [
    {
     "data": {
      "image/png": "[encoded data removed]",
      "text/plain": [
       "<Figure size 432x288 with 1 Axes>"
      ]
     },
     "metadata": {
      "needs_background": "light"
     },
     "output_type": "display_data"
    },
    {
     "data": {
      "image/png": "[encoded data removed]",
      "text/plain": [
       "<Figure size 432x288 with 1 Axes>"
      ]
     },
     "metadata": {
      "needs_background": "light"
     },
     "output_type": "display_data"
    },
    {
     "data": {
      "text/plain": [
       "<Figure size 432x288 with 0 Axes>"
      ]
     },
     "metadata": {},
     "output_type": "display_data"
    }
   ],
   "source": [
    "# plot the loss\n",
    "plt.plot(r.history['loss'], label='train loss')\n",
    "plt.plot(r.history['val_loss'], label='val loss')\n",
    "plt.legend()\n",
    "plt.show()\n",
    "plt.savefig('LossVal_loss')\n",
    "\n",
    "# plot the accuracy\n",
    "plt.plot(r.history['accuracy'], label='train acc')\n",
    "plt.plot(r.history['val_accuracy'], label='val acc')\n",
    "plt.legend()\n",
    "plt.show()\n",
    "plt.savefig('AccVal_acc')"
   ]
  },
  {
   "cell_type": "code",
   "execution_count": 28,
   "id": "d3f52fa0",
   "metadata": {},
   "outputs": [],
   "source": [
    "from tensorflow.keras.models import load_model\n",
    "\n",
    "model.save('model_vgg19.h5')"
   ]
  },
  {
   "cell_type": "code",
   "execution_count": 30,
   "id": "f553f367",
   "metadata": {},
   "outputs": [
    {
     "data": {
      "text/plain": [
       "array([[1.00000000e+00, 1.02166825e-11],\n",
       "       [1.00000000e+00, 3.67709105e-19],\n",
       "       [1.65278662e-03, 9.98347163e-01],\n",
       "       [9.99999046e-01, 9.25363850e-07],\n",
       "       [9.99962568e-01, 3.74633164e-05],\n",
       "       [1.60296715e-03, 9.98397052e-01],\n",
       "       [6.43794425e-03, 9.93562102e-01],\n",
       "       [9.99999762e-01, 2.69386362e-07],\n",
       "       [5.83010539e-03, 9.94169950e-01],\n",
       "       [9.40276682e-01, 5.97232915e-02],\n",
       "       [5.87193519e-02, 9.41280603e-01],\n",
       "       [5.10124583e-03, 9.94898736e-01],\n",
       "       [1.20972004e-03, 9.98790324e-01],\n",
       "       [9.99991059e-01, 8.88836712e-06],\n",
       "       [1.00000000e+00, 9.36907218e-10],\n",
       "       [9.99999762e-01, 2.44888952e-07],\n",
       "       [1.00000000e+00, 3.30024247e-31],\n",
       "       [6.76629925e-03, 9.93233740e-01],\n",
       "       [9.61856127e-01, 3.81438434e-02],\n",
       "       [2.00055316e-02, 9.79994535e-01],\n",
       "       [1.00000000e+00, 5.62289321e-12],\n",
       "       [1.00000000e+00, 5.93594685e-08],\n",
       "       [2.03355923e-02, 9.79664445e-01],\n",
       "       [1.00000000e+00, 2.10161799e-09],\n",
       "       [4.59593395e-03, 9.95404124e-01],\n",
       "       [1.34656613e-03, 9.98653412e-01],\n",
       "       [9.83451962e-01, 1.65481102e-02],\n",
       "       [9.99992013e-01, 7.95347387e-06],\n",
       "       [1.00000000e+00, 6.55923404e-09],\n",
       "       [1.17834995e-03, 9.98821676e-01],\n",
       "       [1.00000000e+00, 5.11006171e-09],\n",
       "       [2.81394389e-03, 9.97186005e-01],\n",
       "       [9.99999523e-01, 4.36677823e-07],\n",
       "       [9.54510987e-01, 4.54890467e-02],\n",
       "       [1.00000000e+00, 9.74450772e-13],\n",
       "       [1.80793426e-03, 9.98192012e-01],\n",
       "       [5.23801029e-01, 4.76198971e-01],\n",
       "       [9.99990940e-01, 9.11421557e-06],\n",
       "       [9.55654681e-01, 4.43452969e-02],\n",
       "       [9.99998331e-01, 1.65195581e-06],\n",
       "       [1.53301833e-02, 9.84669805e-01],\n",
       "       [1.07050836e-02, 9.89294946e-01],\n",
       "       [8.10600817e-03, 9.91893947e-01],\n",
       "       [7.76434084e-03, 9.92235601e-01],\n",
       "       [3.15596350e-03, 9.96844053e-01],\n",
       "       [9.99881148e-01, 1.18889293e-04],\n",
       "       [9.99992490e-01, 7.55222982e-06],\n",
       "       [9.99984980e-01, 1.49856824e-05],\n",
       "       [4.25717968e-04, 9.99574244e-01],\n",
       "       [1.00000000e+00, 1.34747128e-14],\n",
       "       [3.90026838e-01, 6.09973252e-01],\n",
       "       [9.75326300e-01, 2.46736761e-02],\n",
       "       [1.05581423e-02, 9.89441872e-01],\n",
       "       [1.00000000e+00, 7.63160202e-10],\n",
       "       [9.99992728e-01, 7.21795186e-06],\n",
       "       [1.00000000e+00, 5.84868542e-10],\n",
       "       [3.17779835e-04, 9.99682188e-01],\n",
       "       [9.99999642e-01, 4.03907990e-07],\n",
       "       [1.00000000e+00, 7.16757587e-09],\n",
       "       [1.00000000e+00, 2.83182100e-08],\n",
       "       [7.76192844e-01, 2.23807126e-01],\n",
       "       [9.96079504e-01, 3.92046524e-03],\n",
       "       [9.99985576e-01, 1.44684454e-05],\n",
       "       [7.69475549e-02, 9.23052430e-01],\n",
       "       [9.89999950e-01, 1.00001274e-02],\n",
       "       [9.99999762e-01, 1.99745443e-07],\n",
       "       [8.05087090e-01, 1.94912881e-01],\n",
       "       [1.00000000e+00, 3.73634568e-14],\n",
       "       [9.99952674e-01, 4.72885040e-05],\n",
       "       [4.01680707e-04, 9.99598324e-01],\n",
       "       [9.99968290e-01, 3.17409831e-05],\n",
       "       [9.99998808e-01, 1.17467255e-06],\n",
       "       [1.76178000e-03, 9.98238206e-01],\n",
       "       [1.00000000e+00, 4.54789428e-10],\n",
       "       [2.15573283e-03, 9.97844219e-01],\n",
       "       [8.19367077e-03, 9.91806388e-01],\n",
       "       [1.00000000e+00, 7.73182397e-31],\n",
       "       [1.00000000e+00, 1.43433417e-26],\n",
       "       [1.00000000e+00, 1.20184147e-19],\n",
       "       [9.99982715e-01, 1.72603541e-05],\n",
       "       [1.70465349e-03, 9.98295367e-01],\n",
       "       [1.00000000e+00, 5.19580767e-11],\n",
       "       [9.98047471e-01, 1.95248553e-03],\n",
       "       [1.52446125e-02, 9.84755337e-01],\n",
       "       [8.82977806e-03, 9.91170287e-01],\n",
       "       [2.45030271e-03, 9.97549713e-01],\n",
       "       [6.32973433e-01, 3.67026597e-01],\n",
       "       [1.00000000e+00, 1.49155923e-08],\n",
       "       [1.00000000e+00, 1.74303914e-14],\n",
       "       [6.02325937e-03, 9.93976712e-01],\n",
       "       [6.23675227e-01, 3.76324773e-01],\n",
       "       [9.99986053e-01, 1.39489312e-05],\n",
       "       [9.99999881e-01, 1.40621879e-07],\n",
       "       [1.00000000e+00, 3.58904230e-30],\n",
       "       [9.99998689e-01, 1.30588307e-06],\n",
       "       [1.00000000e+00, 2.30650533e-11],\n",
       "       [1.03506455e-02, 9.89649296e-01],\n",
       "       [9.22451392e-02, 9.07754838e-01],\n",
       "       [9.99994159e-01, 5.80853020e-06],\n",
       "       [2.07489426e-03, 9.97925043e-01],\n",
       "       [9.99963164e-01, 3.68244946e-05],\n",
       "       [8.51176918e-01, 1.48823142e-01],\n",
       "       [9.99999523e-01, 4.49128919e-07],\n",
       "       [1.00000000e+00, 3.09856567e-08],\n",
       "       [1.19019451e-03, 9.98809814e-01],\n",
       "       [1.00000000e+00, 2.69885225e-11],\n",
       "       [9.99999881e-01, 8.50747455e-08],\n",
       "       [9.99999881e-01, 8.34531235e-08],\n",
       "       [1.98276266e-02, 9.80172336e-01],\n",
       "       [9.99766886e-01, 2.33123646e-04],\n",
       "       [9.99991298e-01, 8.69219730e-06],\n",
       "       [9.99992728e-01, 7.29553039e-06],\n",
       "       [5.60519425e-03, 9.94394779e-01],\n",
       "       [2.71060201e-03, 9.97289419e-01],\n",
       "       [9.99999881e-01, 1.69423203e-07],\n",
       "       [2.11198488e-03, 9.97888029e-01],\n",
       "       [1.97943882e-03, 9.98020530e-01],\n",
       "       [1.00000000e+00, 1.61252234e-09],\n",
       "       [9.99919891e-01, 8.00867783e-05],\n",
       "       [3.54251382e-03, 9.96457517e-01],\n",
       "       [9.99999046e-01, 9.95482083e-07],\n",
       "       [2.97228713e-03, 9.97027695e-01],\n",
       "       [1.00000000e+00, 2.90862197e-13],\n",
       "       [1.00000000e+00, 2.32863719e-08],\n",
       "       [1.68835185e-02, 9.83116508e-01],\n",
       "       [8.43679591e-04, 9.99156356e-01],\n",
       "       [9.99990106e-01, 9.85769475e-06],\n",
       "       [1.00000000e+00, 2.08814519e-12],\n",
       "       [1.41529785e-03, 9.98584747e-01],\n",
       "       [9.99999762e-01, 2.40427369e-07],\n",
       "       [1.00000000e+00, 2.74575619e-28],\n",
       "       [9.99999881e-01, 8.23910824e-08],\n",
       "       [1.00000000e+00, 4.80941623e-15],\n",
       "       [1.00000000e+00, 1.54479370e-12]], dtype=float32)"
      ]
     },
     "execution_count": 30,
     "metadata": {},
     "output_type": "execute_result"
    }
   ],
   "source": [
    "y_pred = model.predict(test_set)\n",
    "y_pred"
   ]
  },
  {
   "cell_type": "code",
   "execution_count": null,
   "id": "8d525fa3",
   "metadata": {},
   "outputs": [],
   "source": []
  }
 ],
 "metadata": {
  "kernelspec": {
   "display_name": "Python 3 (ipykernel)",
   "language": "python",
   "name": "python3"
  },
  "language_info": {
   "codemirror_mode": {
    "name": "ipython",
    "version": 3
   },
   "file_extension": ".py",
   "mimetype": "text/x-python",
   "name": "python",
   "nbconvert_exporter": "python",
   "pygments_lexer": "ipython3",
   "version": "3.9.9"
  }
 },
 "nbformat": 4,
 "nbformat_minor": 5
}
